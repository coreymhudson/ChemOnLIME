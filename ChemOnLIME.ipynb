{
 "cells": [
  {
   "cell_type": "code",
   "execution_count": 4,
   "metadata": {
    "collapsed": true
   },
   "outputs": [],
   "source": [
    "import sklearn\n",
    "import sklearn.datasets\n",
    "import sklearn.ensemble\n",
    "import numpy as np\n",
    "import lime\n",
    "import lime.lime_tabular\n",
    "from __future__ import print_function\n",
    "np.random.seed(1)"
   ]
  },
  {
   "cell_type": "code",
   "execution_count": 303,
   "metadata": {
    "collapsed": false
   },
   "outputs": [],
   "source": [
    "data = np.genfromtxt('/Users/cmhudso/Desktop/testing/BioCompoundML/bcml/training_data_delim.txt', delimiter='\\t', dtype=str, skip_header=1)\n",
    "feature_names = [\">=_1_O\",\">=_1_any_ring_size_3\",\">=_1_any_ring_size_5\",\">=_1_any_ring_size_6\",\">=_1_any_ring_size_7\",\">=_1_any_ring_size_8\",\">=_1_aromatic_ring\",\">=_1_hetero-aromatic_ring\",\">=_1_saturated_or_aromatic_carbon-only_ring_size_3\",\">=_1_saturated_or_aromatic_carbon-only_ring_size_5\",\">=_1_saturated_or_aromatic_carbon-only_ring_size_6\",\">=_1_saturated_or_aromatic_carbon-only_ring_size_7\",\">=_1_saturated_or_aromatic_carbon-only_ring_size_8\",\">=_1_saturated_or_aromatic_heteroatom-containing_ring_size_5\",\">=_16_H\",\">=_2_O\",\">=_4_C\",\">=_8_C\",\">=_8_H\",\"Auto-Ignition\",\"Boiling_Point\",\"C(-C)(-C)(=C)\",\"C(-C)(-C)(=O)\",\"C(-C)(-H)(=C)\",\"C(-C)(-H)(=O)\",\"C(-C)(-O)(=O)\",\"C(-C)(=C)\",\"C(-C)(=O)\",\"C(-H)(=C)\",\"C(-H)(=O)\",\"C(-O)(=O)\",\"C(:C)(:C)\",\"C(~C)(:C)\",\"C(~C)(:C)(:C)\",\"C(~C)(~C)\",\"C(~C)(~C)(~C)\",\"C(~C)(~C)(~C)(~C)\",\"C(~C)(~C)(~C)(~H)\",\"C(~C)(~C)(~C)(~O)\",\"C(~C)(~C)(~H)(~O)\",\"C(~C)(~C)(~O)\",\"C(~C)(~H)(~O)\",\"C(~C)(~O)\",\"C(~H)(:C)\",\"C(~H)(:C)(:C)\",\"C(~H)(~H)(~H)\",\"C(~H)(~O)\",\"C(~O)(:C)\",\"C(~O)(:C)(:C)\",\"C(~O)(~O)\",\"C-C(C)(C)-C-C\",\"C-C(C)-C(C)-C\",\"C-C(C)-C-C\",\"C-C(C)-C-C-C\",\"C-C-C(C)-C-C\",\"C-C-C-C-C\",\"C-C-C-C-C-C\",\"C-C-C-C-C-C(C)-C\",\"C-C-C-C-C-C-C\",\"C-C-C-C-C-C-C-C\",\"C-C-C-C:C\",\"C-C-C-O-[#1]\",\"C-C-C:C-C\",\"C-C-C=C\",\"C-C-C=C-C\",\"C-C-O-C-C\",\"C-C-O-C:C\",\"C-C:C-C-C\",\"C-C:C-C:C\",\"C-C:C-O-C\",\"C-C:C:C-C\",\"C-C=C-C\",\"C-C=C-C-C\",\"C-C=C-C:C\",\"C-C=C-C=C\",\"C-O\",\"C-O-C-C:C\",\"C-O-C-C=C\",\"C-O-C:C-C\",\"C-O-C=C\",\"C:C-C-C\",\"C:C-C-C-C\",\"C:C-C-C:C\",\"C:C-C:C\",\"C:C-C=C\",\"C:C-C=C-C\",\"C:C-O-C\",\"C:C-O-C-C\",\"C=C\",\"C=C-C-C\",\"C=C-C-C-C\",\"C=C-C-O-C\",\"C=C-C-O-[#1]\",\"C=C-C:C\",\"C=C-C=C\",\"C=O\",\"CC1C(C)CCC1\",\"CC1C(C)CCCC1\",\"CC1CC(C)CC1\",\"CC1CC(C)CCC1\",\"CC1CCC(C)CC1\",\"Cc1c(C)cccc1\",\"Cc1ccc(C)cc1\",\"Complexity\",\"Defined_Bond_Stereocenter_Count\",\"Density\",\"Exact_Mass\",\"Flash_Point\",\"Heavy_Atom_Count\",\"Hydrogen_Bond_Acceptor_Count\",\"Hydrogen_Bond_Donor_Count\",\"LogP\",\"Melting_Point\",\"Molecular_Weight\",\"Monoisotopic_Mass\",\"O(:C)(:C)\",\"O(~C)(~C)\",\"O(~C)(~H)\",\"O-C-C-C-C\",\"O-C-C-C-C-C\",\"O-C-C-C-C-C-C\",\"O-C-C-C:C\",\"O-C-C-C=C\",\"O-C-C:C\",\"O-C-C:C-C\",\"O-C-C=C\",\"O-C-C=C-C\",\"O-C:C-C\",\"O-C:C-C-C\",\"O-C:C-[#1]\",\"O-C:C:C-C\",\"O-C=C-C\",\"O-H\",\"O=C-C-C\",\"O=C-C-C-C\",\"O=C-C-C-C-C\",\"O=C-C-C:C\",\"O=C-C:C\",\"O=C-C:C-C\",\"O=C-C=C\",\"O=C-C=C-C\",\"O=C-C=C-[#1]\",\"Rotatable_Bond_Count\",\"Topological_Polar_Surface_Area\",\"Undefined_Atom_Stereocenter_Count\",\"Undefined_Bond_Stereocenter_Count\",\"Vapor_Density\",\"Vapor_Pressure\",\"XLogP3\",\"XLogP3-AA\",\"[#1]-C-C=C-[#1]\",\"[#1]-C-O-[#1]\",\"[#1]-C=C-[#1]\"]\n",
    "labels = [1 if i > np.median(map(float, data[:,2])) else 0 for i in map(float, data[:,2])]\n",
    "instances = data[:,0]\n",
    "data = data[:,3:]\n",
    "quantitative_features = [19,20,103,104,105,106,107,108,109, 110, 111,112,113,114,142,143,144,145,146,147,148,149]\n",
    "categorical_features = list(set(range(153))-set(quantitative_features))\n",
    "features = []\n",
    "for i, j in enumerate(feature_names):\n",
    "    if i in categorical_features:\n",
    "        features.append(feature_names[i])\n",
    "data = data.astype(float)\n",
    "data = data[:,categorical_features]"
   ]
  },
  {
   "cell_type": "code",
   "execution_count": 311,
   "metadata": {
    "collapsed": false
   },
   "outputs": [],
   "source": [
    "encoder = sklearn.preprocessing.OneHotEncoder(categorical_features=\"all\")\n",
    "encoder.fit(data)\n",
    "encoded_train = encoder.transform(data)"
   ]
  },
  {
   "cell_type": "code",
   "execution_count": 312,
   "metadata": {
    "collapsed": true
   },
   "outputs": [],
   "source": [
    "#np.random.seed(1)\n",
    "#indices = np.arange(data.shape[0])"
   ]
  },
  {
   "cell_type": "code",
   "execution_count": 163,
   "metadata": {
    "collapsed": false
   },
   "outputs": [],
   "source": [
    "#train, test, labels_train, labels_test, train_indices, test_indices = sklearn.cross_validation.train_test_split(data, labels, indices, train_size=0.50)"
   ]
  },
  {
   "cell_type": "code",
   "execution_count": 314,
   "metadata": {
    "collapsed": false
   },
   "outputs": [
    {
     "data": {
      "text/plain": [
       "RandomForestClassifier(bootstrap=True, class_weight=None, criterion='gini',\n",
       "            max_depth=None, max_features='auto', max_leaf_nodes=None,\n",
       "            min_samples_leaf=1, min_samples_split=2,\n",
       "            min_weight_fraction_leaf=0.0, n_estimators=500, n_jobs=1,\n",
       "            oob_score=False, random_state=None, verbose=0,\n",
       "            warm_start=False)"
      ]
     },
     "execution_count": 314,
     "metadata": {},
     "output_type": "execute_result"
    }
   ],
   "source": [
    "crf = sklearn.ensemble.RandomForestClassifier(n_estimators=500)\n",
    "crf.fit(encoded_train, labels)"
   ]
  },
  {
   "cell_type": "code",
   "execution_count": 327,
   "metadata": {
    "collapsed": true
   },
   "outputs": [],
   "source": [
    "mapping = {'8038':\"isobutyl acetate\",\n",
    "'31276':\"isoamyl acetate\",\n",
    "'31253':\"myrcene\",\n",
    "'2758':\"eucalyptol\",\n",
    "'26049':\"3-carene\",\n",
    "'1030':\"1,2-propanediol\",\n",
    "'6549':\"linalool\",\n",
    "'7915':\"isopropyl acetate\",\n",
    "'31272':\"butyl acetate\",\n",
    "'180':\"acetone\",\n",
    "'22311':\"Limonene\",\n",
    "'8257':\"2-methyl-3-buten-2-ol\",\n",
    "'5281553':\"ocimene\",\n",
    "'19001':\"2,3-butanediol\",\n",
    "'6654':\"Pinene\",\n",
    "'7150':\"methyl benzoate\",\n",
    "'7792':\"3,7-dimethyl-1-octanol\"}"
   ]
  },
  {
   "cell_type": "code",
   "execution_count": 315,
   "metadata": {
    "collapsed": true
   },
   "outputs": [],
   "source": [
    "predict_fn = lambda x: crf.predict_proba(encoder.transform(x)).astype(float)"
   ]
  },
  {
   "cell_type": "code",
   "execution_count": 353,
   "metadata": {
    "collapsed": false
   },
   "outputs": [],
   "source": [
    "test = np.genfromtxt('/Users/cmhudso/Desktop/training_data_new.txt', delimiter='\\t', dtype=str)\n",
    "test = test.astype(float)\n",
    "test_cases = ['1030', '180', '19001', '22311', '26049', '2758', '31253', '31272', '31276', '5281553', '6549', '6654', '7150', '7792', '7915', '8038', '8257']"
   ]
  },
  {
   "cell_type": "code",
   "execution_count": 392,
   "metadata": {
    "collapsed": false
   },
   "outputs": [],
   "source": [
    "explainer = lime.lime_tabular.LimeTabularExplainer(data, verbose=True, feature_names=features, class_names = ['Low RON', 'High RON'], kernel_width=3)"
   ]
  },
  {
   "cell_type": "code",
   "execution_count": 393,
   "metadata": {
    "collapsed": false
   },
   "outputs": [
    {
     "name": "stdout",
     "output_type": "stream",
     "text": [
      "Intercept 0.270640559407\n",
      "Prediction_local [ 0.88265802]\n",
      "Right: 1.0\n",
      "Intercept 0.291004784079\n",
      "Prediction_local [ 0.8594036]\n",
      "Right: 0.996\n",
      "Intercept 0.270640559407\n",
      "Prediction_local [ 0.88265802]\n",
      "Right: 1.0\n",
      "Intercept 0.736416788906\n",
      "Prediction_local [ 0.41399904]\n",
      "Right: 0.486\n",
      "Intercept 0.746400497678\n",
      "Prediction_local [ 0.43022456]\n",
      "Right: 0.742\n",
      "Intercept 0.715919140166\n",
      "Prediction_local [ 0.43505449]\n",
      "Right: 0.4285\n",
      "Intercept 0.507457292375\n",
      "Prediction_local [ 0.64989594]\n",
      "Right: 0.102\n",
      "Intercept 0.298603770116\n",
      "Prediction_local [ 0.85477273]\n",
      "Right: 1.0\n",
      "Intercept 0.308833553337\n",
      "Prediction_local [ 0.84470319]\n",
      "Right: 1.0\n",
      "Intercept 0.349000586017\n",
      "Prediction_local [ 0.80223971]\n",
      "Right: 0.836\n",
      "Intercept 0.441261707934\n",
      "Prediction_local [ 0.70854321]\n",
      "Right: 0.692\n",
      "Intercept 0.716786199133\n",
      "Prediction_local [ 0.43251154]\n",
      "Right: 0.64\n",
      "Intercept 0.676006418829\n",
      "Prediction_local [ 0.61929864]\n",
      "Right: 0.964\n",
      "Intercept 0.66681577077\n",
      "Prediction_local [ 0.48765447]\n",
      "Right: 0.532\n",
      "Intercept 0.280129145287\n",
      "Prediction_local [ 0.8739817]\n",
      "Right: 1.0\n",
      "Intercept 0.267410575012\n",
      "Prediction_local [ 0.88530211]\n",
      "Right: 1.0\n",
      "Intercept 0.248871588729\n",
      "Prediction_local [ 0.91013662]\n",
      "Right: 0.998\n"
     ]
    }
   ],
   "source": [
    "for i in range(len(test_cases)):\n",
    "    np.random.seed(1)\n",
    "    name = mapping[test_cases[i]]\n",
    "    exp = explainer.explain_instance(test[i], predict_fn, num_features=len(features), distance_metric='jaccard')\n",
    "    filename = name + '3.html'\n",
    "    exp.save_to_file(filename)"
   ]
  },
  {
   "cell_type": "code",
   "execution_count": 396,
   "metadata": {
    "collapsed": false
   },
   "outputs": [
    {
     "ename": "ImportError",
     "evalue": "No module named model_selection",
     "output_type": "error",
     "traceback": [
      "\u001b[0;31m---------------------------------------------------------------------------\u001b[0m",
      "\u001b[0;31mImportError\u001b[0m                               Traceback (most recent call last)",
      "\u001b[0;32m<ipython-input-396-6aa5835f1004>\u001b[0m in \u001b[0;36m<module>\u001b[0;34m()\u001b[0m\n\u001b[1;32m      1\u001b[0m \u001b[0;32mfrom\u001b[0m \u001b[0msklearn\u001b[0m\u001b[0;34m.\u001b[0m\u001b[0mneighbors\u001b[0m \u001b[0;32mimport\u001b[0m \u001b[0mKernelDensity\u001b[0m\u001b[0;34m\u001b[0m\u001b[0m\n\u001b[0;32m----> 2\u001b[0;31m \u001b[0;32mfrom\u001b[0m \u001b[0msklearn\u001b[0m\u001b[0;34m.\u001b[0m\u001b[0mmodel_selection\u001b[0m \u001b[0;32mimport\u001b[0m \u001b[0mGridSearchCV\u001b[0m\u001b[0;34m\u001b[0m\u001b[0m\n\u001b[0m\u001b[1;32m      3\u001b[0m \u001b[0mparams\u001b[0m \u001b[0;34m=\u001b[0m \u001b[0;34m{\u001b[0m\u001b[0;34m'bandwidth'\u001b[0m\u001b[0;34m:\u001b[0m \u001b[0mnp\u001b[0m\u001b[0;34m.\u001b[0m\u001b[0mlogspace\u001b[0m\u001b[0;34m(\u001b[0m\u001b[0;34m-\u001b[0m\u001b[0;36m1\u001b[0m\u001b[0;34m,\u001b[0m \u001b[0;36m1\u001b[0m\u001b[0;34m,\u001b[0m \u001b[0;36m20\u001b[0m\u001b[0;34m)\u001b[0m\u001b[0;34m}\u001b[0m\u001b[0;34m\u001b[0m\u001b[0m\n\u001b[1;32m      4\u001b[0m \u001b[0mgrid\u001b[0m \u001b[0;34m=\u001b[0m \u001b[0mGridSearchCV\u001b[0m\u001b[0;34m(\u001b[0m\u001b[0mKernelDensity\u001b[0m\u001b[0;34m(\u001b[0m\u001b[0;34m)\u001b[0m\u001b[0;34m,\u001b[0m \u001b[0mparams\u001b[0m\u001b[0;34m)\u001b[0m\u001b[0;34m\u001b[0m\u001b[0m\n\u001b[1;32m      5\u001b[0m \u001b[0mgrid\u001b[0m\u001b[0;34m.\u001b[0m\u001b[0mfit\u001b[0m\u001b[0;34m(\u001b[0m\u001b[0mencoded_train\u001b[0m\u001b[0;34m)\u001b[0m\u001b[0;34m\u001b[0m\u001b[0m\n",
      "\u001b[0;31mImportError\u001b[0m: No module named model_selection"
     ]
    }
   ],
   "source": [
    "from sklearn.neighbors import KernelDensity\n",
    "from sklearn.model_selection import GridSearchCV\n",
    "params = {'bandwidth': np.logspace(-1, 1, 20)}\n",
    "grid = GridSearchCV(KernelDensity(), params)\n",
    "grid.fit(encoded_train)"
   ]
  },
  {
   "cell_type": "code",
   "execution_count": 355,
   "metadata": {
    "collapsed": true
   },
   "outputs": [],
   "source": [
    "smarts_patterns = ['O', '*~1~*~*1', '*~1~*~*~*~*1', '*~1~*~*~*~*~*1', '*~1~*~*~*~*~*~*1', '*~1~*~*~*~*~*~*~*1', '[aR]', '[aR;!#6]', 'c1cc1', 'c1cccc1', 'c1ccccc1', 'c1cccccc1', 'c1ccccccc1', '[a;!#6]1aaaa1', '>=_16_H', '>=_2_O', '>=_4_C', '>=_8_C', '>=_8_H', 'C(-C)(-C)(=C)', 'C(-C)(-C)(=O)', 'C(-C)(-H)(=C)', 'C(-C)(-H)(=O)', 'C(-C)(-O)(=O)', 'C(-C)(=C)', 'C(-C)(=O)', 'C(-H)(=C)', 'C(-H)(=O)', 'C(-O)(=O)', 'C(:C)(:C)', 'C(~C)(:C)', 'C(~C)(:C)(:C)', 'C(~C)(~C)', 'C(~C)(~C)(~C)', 'C(~C)(~C)(~C)(~C)', 'C(~C)(~C)(~C)(~H)', 'C(~C)(~C)(~C)(~O)', 'C(~C)(~C)(~H)(~O)', 'C(~C)(~C)(~O)', 'C(~C)(~H)(~O)', 'C(~C)(~O)', 'C(~H)(:C)', 'C(~H)(:C)(:C)', 'C(~H)(~H)(~H)', 'C(~H)(~O)', 'C(~O)(:C)', 'C(~O)(:C)(:C)', 'C(~O)(~O)', 'C-C(C)(C)-C-C', 'C-C(C)-C(C)-C', 'C-C(C)-C-C', 'C-C(C)-C-C-C', 'C-C-C(C)-C-C', 'C-C-C-C-C', 'C-C-C-C-C-C', 'C-C-C-C-C-C(C)-C', 'C-C-C-C-C-C-C', 'C-C-C-C-C-C-C-C', 'C-C-C-C:C', 'C-C-C-O-[#1]', 'C-C-C:C-C', 'C-C-C=C', 'C-C-C=C-C', 'C-C-O-C-C', 'C-C-O-C:C', 'C-C:C-C-C', 'C-C:C-C:C', 'C-C:C-O-C', 'C-C:C:C-C', 'C-C=C-C', 'C-C=C-C-C', 'C-C=C-C:C', 'C-C=C-C=C', 'C-O', 'C-O-C-C:C', 'C-O-C-C=C', 'C-O-C:C-C', 'C-O-C=C', 'C:C-C-C', 'C:C-C-C-C', 'C:C-C-C:C', 'C:C-C:C', 'C:C-C=C', 'C:C-C=C-C', 'C:C-O-C', 'C:C-O-C-C', 'C=C', 'C=C-C-C', 'C=C-C-C-C', 'C=C-C-O-C', 'C=C-C-O-[#1]', 'C=C-C:C', 'C=C-C=C', 'C=O', 'CC1C(C)CCC1', 'CC1C(C)CCCC1', 'CC1CC(C)CC1', 'CC1CC(C)CCC1', 'CC1CCC(C)CC1', 'Cc1c(C)cccc1', 'Cc1ccc(C)cc1', 'O(:C)(:C)', 'O(~C)(~C)', 'O(~C)(~H)', 'O-C-C-C-C', 'O-C-C-C-C-C', 'O-C-C-C-C-C-C', 'O-C-C-C:C', 'O-C-C-C=C', 'O-C-C:C', 'O-C-C:C-C', 'O-C-C=C', 'O-C-C=C-C', 'O-C:C-C', 'O-C:C-C-C', 'O-C:C-[#1]', 'O-C:C:C-C', 'O-C=C-C', 'O-H', 'O=C-C-C', 'O=C-C-C-C', 'O=C-C-C-C-C', 'O=C-C-C:C', 'O=C-C:C', 'O=C-C:C-C', 'O=C-C=C', 'O=C-C=C-C', 'O=C-C=C-[#1]', '[#1]-C-C=C-[#1]', '[#1]-C-O-[#1]', '[#1]-C=C-[#1]']"
   ]
  },
  {
   "cell_type": "code",
   "execution_count": 347,
   "metadata": {
    "collapsed": false
   },
   "outputs": [
    {
     "ename": "KeyboardInterrupt",
     "evalue": "",
     "output_type": "error",
     "traceback": [
      "\u001b[0;31m---------------------------------------------------------------------------\u001b[0m",
      "\u001b[0;31mKeyboardInterrupt\u001b[0m                         Traceback (most recent call last)",
      "\u001b[0;32m<ipython-input-347-f7cff0f84a90>\u001b[0m in \u001b[0;36m<module>\u001b[0;34m()\u001b[0m\n\u001b[1;32m     33\u001b[0m     \u001b[0;32mif\u001b[0m \u001b[0mi\u001b[0m \u001b[0;34m!=\u001b[0m \u001b[0;36m2\u001b[0m\u001b[0;34m:\u001b[0m\u001b[0;34m\u001b[0m\u001b[0m\n\u001b[1;32m     34\u001b[0m         \u001b[0mname\u001b[0m \u001b[0;34m=\u001b[0m \u001b[0mmapping\u001b[0m\u001b[0;34m[\u001b[0m\u001b[0mtest_cases\u001b[0m\u001b[0;34m[\u001b[0m\u001b[0mi\u001b[0m\u001b[0;34m]\u001b[0m\u001b[0;34m]\u001b[0m\u001b[0;34m\u001b[0m\u001b[0m\n\u001b[0;32m---> 35\u001b[0;31m         \u001b[0mexp\u001b[0m \u001b[0;34m=\u001b[0m \u001b[0mexplainer\u001b[0m\u001b[0;34m.\u001b[0m\u001b[0mexplain_instance\u001b[0m\u001b[0;34m(\u001b[0m\u001b[0mtest\u001b[0m\u001b[0;34m[\u001b[0m\u001b[0mi\u001b[0m\u001b[0;34m]\u001b[0m\u001b[0;34m,\u001b[0m \u001b[0mpredict_fn\u001b[0m\u001b[0;34m,\u001b[0m \u001b[0mnum_features\u001b[0m\u001b[0;34m=\u001b[0m\u001b[0mlen\u001b[0m\u001b[0;34m(\u001b[0m\u001b[0mfeatures\u001b[0m\u001b[0;34m)\u001b[0m\u001b[0;34m)\u001b[0m\u001b[0;34m\u001b[0m\u001b[0m\n\u001b[0m\u001b[1;32m     36\u001b[0m         \u001b[0mpatterns\u001b[0m \u001b[0;34m=\u001b[0m \u001b[0;34m[\u001b[0m\u001b[0;34m]\u001b[0m\u001b[0;34m\u001b[0m\u001b[0m\n\u001b[1;32m     37\u001b[0m         \u001b[0;32mfor\u001b[0m \u001b[0;34m(\u001b[0m\u001b[0mnum\u001b[0m\u001b[0;34m,\u001b[0m \u001b[0mvalue\u001b[0m\u001b[0;34m)\u001b[0m \u001b[0;32min\u001b[0m \u001b[0mexp\u001b[0m\u001b[0;34m.\u001b[0m\u001b[0mlocal_exp\u001b[0m\u001b[0;34m[\u001b[0m\u001b[0;36m1\u001b[0m\u001b[0;34m]\u001b[0m\u001b[0;34m:\u001b[0m\u001b[0;34m\u001b[0m\u001b[0m\n",
      "\u001b[0;32m//anaconda/lib/python2.7/site-packages/lime-0.1.1.16-py2.7.egg/lime/lime_tabular.pyc\u001b[0m in \u001b[0;36mexplain_instance\u001b[0;34m(self, data_row, classifier_fn, labels, top_labels, num_features, num_samples, distance_metric, model_regressor)\u001b[0m\n\u001b[1;32m    193\u001b[0m             \u001b[0mexplanations\u001b[0m\u001b[0;34m.\u001b[0m\u001b[0;34m\u001b[0m\u001b[0m\n\u001b[1;32m    194\u001b[0m         \"\"\"\n\u001b[0;32m--> 195\u001b[0;31m         \u001b[0mdata\u001b[0m\u001b[0;34m,\u001b[0m \u001b[0minverse\u001b[0m \u001b[0;34m=\u001b[0m \u001b[0mself\u001b[0m\u001b[0;34m.\u001b[0m\u001b[0m__data_inverse\u001b[0m\u001b[0;34m(\u001b[0m\u001b[0mdata_row\u001b[0m\u001b[0;34m,\u001b[0m \u001b[0mnum_samples\u001b[0m\u001b[0;34m)\u001b[0m\u001b[0;34m\u001b[0m\u001b[0m\n\u001b[0m\u001b[1;32m    196\u001b[0m         \u001b[0mscaled_data\u001b[0m \u001b[0;34m=\u001b[0m \u001b[0;34m(\u001b[0m\u001b[0mdata\u001b[0m \u001b[0;34m-\u001b[0m \u001b[0mself\u001b[0m\u001b[0;34m.\u001b[0m\u001b[0mscaler\u001b[0m\u001b[0;34m.\u001b[0m\u001b[0mmean_\u001b[0m\u001b[0;34m)\u001b[0m \u001b[0;34m/\u001b[0m \u001b[0mself\u001b[0m\u001b[0;34m.\u001b[0m\u001b[0mscaler\u001b[0m\u001b[0;34m.\u001b[0m\u001b[0mscale_\u001b[0m\u001b[0;34m\u001b[0m\u001b[0m\n\u001b[1;32m    197\u001b[0m \u001b[0;34m\u001b[0m\u001b[0m\n",
      "\u001b[0;32m//anaconda/lib/python2.7/site-packages/lime-0.1.1.16-py2.7.egg/lime/lime_tabular.pyc\u001b[0m in \u001b[0;36m__data_inverse\u001b[0;34m(self, data_row, num_samples)\u001b[0m\n\u001b[1;32m    294\u001b[0m                                               replace=True, p=freqs)\n\u001b[1;32m    295\u001b[0m             binary_column = np.array([1 if x == first_row[column]\n\u001b[0;32m--> 296\u001b[0;31m                                       else 0 for x in inverse_column])\n\u001b[0m\u001b[1;32m    297\u001b[0m             \u001b[0mbinary_column\u001b[0m\u001b[0;34m[\u001b[0m\u001b[0;36m0\u001b[0m\u001b[0;34m]\u001b[0m \u001b[0;34m=\u001b[0m \u001b[0;36m1\u001b[0m\u001b[0;34m\u001b[0m\u001b[0m\n\u001b[1;32m    298\u001b[0m             \u001b[0minverse_column\u001b[0m\u001b[0;34m[\u001b[0m\u001b[0;36m0\u001b[0m\u001b[0;34m]\u001b[0m \u001b[0;34m=\u001b[0m \u001b[0mdata\u001b[0m\u001b[0;34m[\u001b[0m\u001b[0;36m0\u001b[0m\u001b[0;34m,\u001b[0m \u001b[0mcolumn\u001b[0m\u001b[0;34m]\u001b[0m\u001b[0;34m\u001b[0m\u001b[0m\n",
      "\u001b[0;31mKeyboardInterrupt\u001b[0m: "
     ]
    }
   ],
   "source": [
    "def getAtomsActivity (m):\n",
    "    matcher = indigo.substructureMatcher(m)\n",
    "    atom_values = collections.defaultdict(float)\n",
    "    for pattern, value in patterns:\n",
    "        try:\n",
    "            query = indigo.loadQueryMolecule(pattern)\n",
    "            for match in matcher.iterateMatches(query):\n",
    "                for qatom in query.iterateAtoms():\n",
    "                    atom = match.mapAtom(qatom)\n",
    "                    atom_values[atom.index()] += value / query.countAtoms()\n",
    "        except:\n",
    "            pass\n",
    "    return atom_values\n",
    "\n",
    "def addColorSGroups (m, atom_values):\n",
    "    min_value = min(atom_values.itervalues())\n",
    "    max_value = max(atom_values.itervalues())\n",
    "    for atom_index, atom_value in atom_values.iteritems():\n",
    "        if atom_value < 0:\n",
    "            color = \"0, 0, %f\" % (atom_value / min_value)\n",
    "        else:\n",
    "            color = \"%f, 0, 0\" % (atom_value / max_value)\n",
    "        m.addDataSGroup([atom_index], [], \"color\", color)\n",
    "    return min_value, max_value\n",
    "\n",
    "def assignColorGroups (m):\n",
    "    atom_values = getAtomsActivity(m)\n",
    "    min_value, max_value = addColorSGroups(m, atom_values)\n",
    "    return min_value, max_value\n",
    "\n",
    "array = indigo.createArray()\n",
    "for i in range(len(test_cases)):\n",
    "    if i != 2:\n",
    "        name = mapping[test_cases[i]]\n",
    "        exp = explainer.explain_instance(test[i], predict_fn, num_features=len(features))\n",
    "        patterns = []\n",
    "        for (num, value) in exp.local_exp[1]:\n",
    "            if float(exp.domain_mapper.feature_values[num]) == 1.:\n",
    "                patterns.append((smarts_patterns[num], value))\n",
    "        filename = '/Users/cmhudso/' + str(test_cases[i]) + '.sdf'\n",
    "        mol = indigo.iterateSDFile(filename)\n",
    "        m = mol.at(0)\n",
    "        assignColorGroups(m)\n",
    "        m.setProperty('grid-comment', name)\n",
    "        array.arrayAdd(m)\n",
    "indigo.setOption(\"render-atom-ids-visible\", \"false\");\n",
    "indigo.setOption(\"render-atom-color-property\", \"color\")\n",
    "indigo.setOption('render-coloring', False)\n",
    "indigo.setOption('render-grid-title-font-size', \"88\")\n",
    "indigo.setOption('render-grid-margins', \"5, 5\")\n",
    "indigo.setOption('render-grid-title-offset', \"2\")\n",
    "indigo.setOption('render-grid-title-property', \"grid-comment\")\n",
    "indigo.setOption(\"render-output-format\", \"png\");\n",
    "indigoRenderer.renderGridToFile(array, None, 5, 'total_testing.png')"
   ]
  },
  {
   "cell_type": "code",
   "execution_count": 374,
   "metadata": {
    "collapsed": false
   },
   "outputs": [],
   "source": [
    "def getAtomsActivity (m):\n",
    "    try:\n",
    "        matcher = indigo.substructureMatcher(m)\n",
    "        atom_values = collections.defaultdict(float)\n",
    "        for pattern, value in patterns:\n",
    "            try:\n",
    "                query = indigo.loadQueryMolecule(pattern)\n",
    "                for match in matcher.iterateMatches(query):\n",
    "                    for qatom in query.iterateAtoms():\n",
    "                        atom = match.mapAtom(qatom)\n",
    "                        atom_values[atom.index()] += value / query.countAtoms()\n",
    "            except:\n",
    "                pass\n",
    "        return atom_values\n",
    "    except:\n",
    "        return False\n",
    "\n",
    "def addColorSGroups (m, atom_values):\n",
    "    min_value = min(atom_values.itervalues())\n",
    "    max_value = max(atom_values.itervalues())\n",
    "    for atom_index, atom_value in atom_values.iteritems():\n",
    "        if atom_value < 0:\n",
    "            color = \"0, 0, %f\" % (atom_value / min_value)\n",
    "        else:\n",
    "            color = \"%f, 0, 0\" % (atom_value / max_value)\n",
    "        m.addDataSGroup([atom_index], [], \"color\", color)\n",
    "    return min_value, max_value\n",
    "\n",
    "def assignColorGroups (m):\n",
    "    atom_values = getAtomsActivity(m)\n",
    "    if atom_values:\n",
    "        min_value, max_value = addColorSGroups(m, atom_values)\n",
    "        return min_value, max_value\n",
    "\n",
    "name = mapping[test_cases[6]]\n",
    "exp = explainer.explain_instance(test[6], predict_fn, num_features=len(features))\n",
    "patterns = []\n",
    "filename = '/Users/cmhudso/' + str(test_cases[6]) + '.sdf'\n",
    "i = 1\n",
    "array = indigo.createArray()\n",
    "for (num, value) in exp.local_exp[1]:\n",
    "    if float(exp.domain_mapper.feature_values[num]) == 1. and abs(value) > 0.04:\n",
    "        mol = indigo.iterateSDFile(filename)\n",
    "        m = mol.at(0)\n",
    "        patterns.append((smarts_patterns[num], value))\n",
    "        assignColorGroups(m)\n",
    "        try:\n",
    "            m.setProperty('grid-comment', smarts_patterns[num])\n",
    "            array.arrayAdd(m)\n",
    "        except:\n",
    "            pass\n",
    "indigo.setOption('render-comment', \"\")\n",
    "indigo.setOption(\"render-atom-ids-visible\", \"false\");\n",
    "indigo.setOption(\"render-atom-color-property\", \"color\")\n",
    "indigo.setOption('render-coloring', False)\n",
    "indigo.setOption('render-grid-title-font-size', \"88\")\n",
    "indigo.setOption('render-grid-margins', \"5, 5\")\n",
    "indigo.setOption('render-grid-title-offset', \"2\")\n",
    "indigo.setOption('render-grid-title-property', \"grid-comment\")\n",
    "indigo.setOption(\"render-output-format\", \"png\");\n",
    "indigoRenderer.renderGridToFile(array, None, 4, 'myrcene_evolve.png')\n"
   ]
  },
  {
   "cell_type": "code",
   "execution_count": 255,
   "metadata": {
    "collapsed": false
   },
   "outputs": [
    {
     "name": "stdout",
     "output_type": "stream",
     "text": [
      "[('C-C-C-C-C', -0.093259818518078449), ('C(~C)(~C)(~C)', 0.063562763868683536), ('C(~C)(~C)(~C)(~H)', 0.058633346209008605), ('C-C(C)-C-C-C', -0.043500541702691277), ('C-C(C)-C-C', -0.019127691102125245), ('C(~H)(~H)(~H)', 0.0), ('C(~C)(~C)', 0.0), ('>=_8_H', 0.0), ('>=_4_C', 0.0)]\n"
     ]
    }
   ],
   "source": [
    "print(patterns)"
   ]
  },
  {
   "cell_type": "code",
   "execution_count": 170,
   "metadata": {
    "collapsed": false
   },
   "outputs": [],
   "source": [
    "from rdkit import Chem"
   ]
  },
  {
   "cell_type": "code",
   "execution_count": 171,
   "metadata": {
    "collapsed": false
   },
   "outputs": [],
   "source": [
    "suppl = Chem.SDMolSupplier('/Users/cmhudso/77414.sdf')"
   ]
  },
  {
   "cell_type": "code",
   "execution_count": 203,
   "metadata": {
    "collapsed": true
   },
   "outputs": [],
   "source": [
    "import imp\n",
    "indigo = imp.load_source('indigo', '/Users/cmhudso/Desktop/indigo-python-1.2.3.r0-mac/indigo.py')\n",
    "indigo_renderer = imp.load_source('indigo_renderer', '/Users/cmhudso/Desktop/indigo-python-1.2.3.r0-mac/indigo_renderer.py')"
   ]
  },
  {
   "cell_type": "code",
   "execution_count": 208,
   "metadata": {
    "collapsed": false
   },
   "outputs": [],
   "source": [
    "import indigo\n",
    "import indigo_renderer"
   ]
  },
  {
   "cell_type": "code",
   "execution_count": 209,
   "metadata": {
    "collapsed": false
   },
   "outputs": [],
   "source": [
    "indigo = indigo.Indigo()\n",
    "indigoRenderer = indigo_renderer.IndigoRenderer(indigo)"
   ]
  },
  {
   "cell_type": "code",
   "execution_count": 265,
   "metadata": {
    "collapsed": true
   },
   "outputs": [],
   "source": [
    "mol = indigo.iterateSDFile('/Users/cmhudso/17148.sdf')"
   ]
  },
  {
   "cell_type": "code",
   "execution_count": 266,
   "metadata": {
    "collapsed": false
   },
   "outputs": [],
   "source": [
    "m = mol.at(0)"
   ]
  },
  {
   "cell_type": "code",
   "execution_count": 267,
   "metadata": {
    "collapsed": false
   },
   "outputs": [],
   "source": [
    "m = mol.at(0)\n",
    "\n",
    "def getAtomsActivity (m):\n",
    "    matcher = indigo.substructureMatcher(m)\n",
    "    atom_values = collections.defaultdict(float)\n",
    "    for pattern, value in patterns:\n",
    "        try:\n",
    "            query = indigo.loadQueryMolecule(pattern)\n",
    "            for match in matcher.iterateMatches(query):\n",
    "                for qatom in query.iterateAtoms():\n",
    "                    atom = match.mapAtom(qatom)\n",
    "                    atom_values[atom.index()] += value / query.countAtoms()\n",
    "        except:\n",
    "            pass\n",
    "    return atom_values\n",
    "\n",
    "def addColorSGroups (m, atom_values):\n",
    "    min_value = min(atom_values.itervalues())\n",
    "    max_value = max(atom_values.itervalues())\n",
    "    for atom_index, atom_value in atom_values.iteritems():\n",
    "        if atom_value < 0:\n",
    "            color = \"0, 0, %f\" % (atom_value / min_value)\n",
    "        else:\n",
    "            color = \"%f, 0, 0\" % (atom_value / max_value)\n",
    "        m.addDataSGroup([atom_index], [], \"color\", color)\n",
    "    return min_value, max_value\n",
    "\n",
    "def assignColorGroups (m):\n",
    "    atom_values = getAtomsActivity(m)\n",
    "    min_value, max_value = addColorSGroups(m, atom_values)\n",
    "    return min_value, max_value\n",
    "\n",
    "indigo.setOption(\"render-atom-ids-visible\", \"false\");\n",
    "indigo.setOption(\"render-atom-color-property\", \"color\")\n",
    "indigo.setOption('render-coloring', False)\n",
    "indigo.setOption('render-comment-font-size', 24.0)\n",
    "indigo.setOption('render-bond-line-width', 2.0)\n",
    "indigo.setOption(\"render-margins\", 200, 10);\n",
    "indigo.setOption('render-comment', \"2,2-Dimethylpropane\")\n",
    "assignColorGroups(m)\n",
    "indigoRenderer.renderToFile(m, 'result.png')"
   ]
  },
  {
   "cell_type": "code",
   "execution_count": 228,
   "metadata": {
    "collapsed": false
   },
   "outputs": [
    {
     "name": "stdout",
     "output_type": "stream",
     "text": [
      "Atom 0: 0.21\n",
      "Atom 1: 0.16\n",
      "Atom 2: 0.13\n",
      "Atom 3: 0.03\n",
      "Atom 4: 0.02\n",
      "Atom 5: 0.00\n",
      "Atom 6: 0.21\n",
      "Atom 7: 0.05\n"
     ]
    }
   ],
   "source": [
    "import collections\n",
    "\n",
    "def getAtomsActivity (m):\n",
    "    matcher = indigo.substructureMatcher(m)\n",
    "    atom_values = collections.defaultdict(float)\n",
    "    for pattern, value in patterns:\n",
    "        try:\n",
    "            query = indigo.loadQueryMolecule(pattern)\n",
    "            for match in matcher.iterateMatches(query):\n",
    "                for qatom in query.iterateAtoms():\n",
    "                    atom = match.mapAtom(qatom)\n",
    "                    atom_values[atom.index()] += value / query.countAtoms()\n",
    "        except:\n",
    "            pass\n",
    "    return atom_values\n",
    "\n",
    "activity = getAtomsActivity(m)\n",
    "for index, value in activity.iteritems():\n",
    "    print(\"Atom %d: %0.2f\" % (index, value))\n",
    "indigo.setOption(\"render-atom-ids-visible\", \"true\");\n",
    "indigoRenderer.renderToFile(m, 'result.png')\n"
   ]
  },
  {
   "cell_type": "code",
   "execution_count": 189,
   "metadata": {
    "collapsed": false
   },
   "outputs": [
    {
     "name": "stdout",
     "output_type": "stream",
     "text": [
      "defaultdict(<type 'float'>, {0: 0.2050312410396283, 1: 0.15949479041796794, 2: 0.12633576271560096, 3: 0.025281922208799892, 4: 0.018948996503620277, 5: 0.0023715079208607489, 6: 0.20553271898844902, 7: 0.049547962887717137})\n"
     ]
    }
   ],
   "source": [
    "print(activity)"
   ]
  },
  {
   "cell_type": "code",
   "execution_count": 118,
   "metadata": {
    "collapsed": true
   },
   "outputs": [],
   "source": [
    "smarts_patterns = ['O', '*~1~*~*1', '*~1~*~*~*~*1', '*~1~*~*~*~*~*1', '*~1~*~*~*~*~*~*1', '*~1~*~*~*~*~*~*~*1', '[aR]', '[aR;!#6]', 'c1cc1', 'c1cccc1', 'c1ccccc1', 'c1cccccc1', 'c1ccccccc1', '[a;!#6]1aaaa1', '>=_16_H', '>=_2_O', '>=_4_C', '>=_8_C', '>=_8_H', 'C(-C)(-C)(=C)', 'C(-C)(-C)(=O)', 'C(-C)(-H)(=C)', 'C(-C)(-H)(=O)', 'C(-C)(-O)(=O)', 'C(-C)(=C)', 'C(-C)(=O)', 'C(-H)(=C)', 'C(-H)(=O)', 'C(-O)(=O)', 'C(:C)(:C)', 'C(~C)(:C)', 'C(~C)(:C)(:C)', 'C(~C)(~C)', 'C(~C)(~C)(~C)', 'C(~C)(~C)(~C)(~C)', 'C(~C)(~C)(~C)(~H)', 'C(~C)(~C)(~C)(~O)', 'C(~C)(~C)(~H)(~O)', 'C(~C)(~C)(~O)', 'C(~C)(~H)(~O)', 'C(~C)(~O)', 'C(~H)(:C)', 'C(~H)(:C)(:C)', 'C(~H)(~H)(~H)', 'C(~H)(~O)', 'C(~O)(:C)', 'C(~O)(:C)(:C)', 'C(~O)(~O)', 'C-C(C)(C)-C-C', 'C-C(C)-C(C)-C', 'C-C(C)-C-C', 'C-C(C)-C-C-C', 'C-C-C(C)-C-C', 'C-C-C-C-C', 'C-C-C-C-C-C', 'C-C-C-C-C-C(C)-C', 'C-C-C-C-C-C-C', 'C-C-C-C-C-C-C-C', 'C-C-C-C:C', 'C-C-C-O-[#1]', 'C-C-C:C-C', 'C-C-C=C', 'C-C-C=C-C', 'C-C-O-C-C', 'C-C-O-C:C', 'C-C:C-C-C', 'C-C:C-C:C', 'C-C:C-O-C', 'C-C:C:C-C', 'C-C=C-C', 'C-C=C-C-C', 'C-C=C-C:C', 'C-C=C-C=C', 'C-O', 'C-O-C-C:C', 'C-O-C-C=C', 'C-O-C:C-C', 'C-O-C=C', 'C:C-C-C', 'C:C-C-C-C', 'C:C-C-C:C', 'C:C-C:C', 'C:C-C=C', 'C:C-C=C-C', 'C:C-O-C', 'C:C-O-C-C', 'C=C', 'C=C-C-C', 'C=C-C-C-C', 'C=C-C-O-C', 'C=C-C-O-[#1]', 'C=C-C:C', 'C=C-C=C', 'C=O', 'CC1C(C)CCC1', 'CC1C(C)CCCC1', 'CC1CC(C)CC1', 'CC1CC(C)CCC1', 'CC1CCC(C)CC1', 'Cc1c(C)cccc1', 'Cc1ccc(C)cc1', 'O(:C)(:C)', 'O(~C)(~C)', 'O(~C)(~H)', 'O-C-C-C-C', 'O-C-C-C-C-C', 'O-C-C-C-C-C-C', 'O-C-C-C:C', 'O-C-C-C=C', 'O-C-C:C', 'O-C-C:C-C', 'O-C-C=C', 'O-C-C=C-C', 'O-C:C-C', 'O-C:C-C-C', 'O-C:C-[#1]', 'O-C:C:C-C', 'O-C=C-C', 'O-H', 'O=C-C-C', 'O=C-C-C-C', 'O=C-C-C-C-C', 'O=C-C-C:C', 'O=C-C:C', 'O=C-C:C-C', 'O=C-C=C', 'O=C-C=C-C', 'O=C-C=C-[#1]', '[#1]-C-C=C-[#1]', '[#1]-C-O-[#1]', '[#1]-C=C-[#1]']"
   ]
  },
  {
   "cell_type": "code",
   "execution_count": 108,
   "metadata": {
    "collapsed": true
   },
   "outputs": [],
   "source": [
    "pattern = Chem.MolFromSmarts(smiles_patterns[2])"
   ]
  },
  {
   "cell_type": "code",
   "execution_count": 88,
   "metadata": {
    "collapsed": true
   },
   "outputs": [],
   "source": [
    "tgt = None"
   ]
  },
  {
   "cell_type": "code",
   "execution_count": 89,
   "metadata": {
    "collapsed": true
   },
   "outputs": [],
   "source": [
    "for mol in suppl:\n",
    "    if not mol: continue\n",
    "    if mol.GetProp('_Name')=='11271':\n",
    "        tgt=mol\n",
    "        break\n"
   ]
  },
  {
   "cell_type": "code",
   "execution_count": 118,
   "metadata": {
    "collapsed": false
   },
   "outputs": [],
   "source": [
    "pattern = Chem.MolFromSmiles('C(~C)(~O)')"
   ]
  },
  {
   "cell_type": "code",
   "execution_count": 120,
   "metadata": {
    "collapsed": false
   },
   "outputs": [],
   "source": [
    "matches = mol.GetSubstructMatches(pattern)"
   ]
  },
  {
   "cell_type": "code",
   "execution_count": 121,
   "metadata": {
    "collapsed": false
   },
   "outputs": [],
   "source": [
    "from rdkit.Chem import Draw\n",
    "from rdkit.Chem.Draw import MolDrawing\n",
    "from collections import defaultdict"
   ]
  },
  {
   "cell_type": "code",
   "execution_count": 122,
   "metadata": {
    "collapsed": true
   },
   "outputs": [],
   "source": [
    "MolDrawing.elemDict = defaultdict(lambda :(0,0,0))"
   ]
  },
  {
   "cell_type": "code",
   "execution_count": 135,
   "metadata": {
    "collapsed": true
   },
   "outputs": [],
   "source": [
    "Draw.MolToFile(tgt, '11271_highlighted.png', size=(1200,1200), fitImage=True, highlightAtoms=matches)"
   ]
  },
  {
   "cell_type": "code",
   "execution_count": 124,
   "metadata": {
    "collapsed": false
   },
   "outputs": [
    {
     "name": "stdout",
     "output_type": "stream",
     "text": [
      "/bin/sh: -c: line 0: syntax error near unexpected token `img/11271_highlighted.png'\r\n",
      "/bin/sh: -c: line 0: `[title](img/11271_highlighted.png)'\r\n"
     ]
    }
   ],
   "source": [
    "![title](img/11271_highlighted.png)"
   ]
  },
  {
   "cell_type": "code",
   "execution_count": 128,
   "metadata": {
    "collapsed": true
   },
   "outputs": [],
   "source": [
    "pattern2 = Chem.MolFromSmiles('C-C-C-C-C')"
   ]
  },
  {
   "cell_type": "code",
   "execution_count": 129,
   "metadata": {
    "collapsed": true
   },
   "outputs": [],
   "source": [
    "matches2 = mol.GetSubstructMatches(pattern2)"
   ]
  },
  {
   "cell_type": "code",
   "execution_count": 134,
   "metadata": {
    "collapsed": false
   },
   "outputs": [],
   "source": [
    "MolDrawing.elemDict = defaultdict(lambda :(0,0,0))\n",
    "Draw.MolToFile(tgt, '11271_lowlighted.png', size=(1200,1200), fitImage=True, highlightAtoms=matches2)"
   ]
  },
  {
   "cell_type": "code",
   "execution_count": 132,
   "metadata": {
    "collapsed": false
   },
   "outputs": [
    {
     "data": {
      "text/plain": [
       "((3, 1, 0), (3, 2, 0))"
      ]
     },
     "execution_count": 132,
     "metadata": {},
     "output_type": "execute_result"
    }
   ],
   "source": [
    "matches"
   ]
  },
  {
   "cell_type": "code",
   "execution_count": 133,
   "metadata": {
    "collapsed": false
   },
   "outputs": [
    {
     "data": {
      "text/plain": [
       "((4, 2, 3, 1, 6), (4, 2, 3, 1, 7), (5, 2, 3, 1, 6), (5, 2, 3, 1, 7))"
      ]
     },
     "execution_count": 133,
     "metadata": {},
     "output_type": "execute_result"
    }
   ],
   "source": [
    "matches2"
   ]
  },
  {
   "cell_type": "code",
   "execution_count": 263,
   "metadata": {
    "collapsed": false
   },
   "outputs": [
    {
     "name": "stdout",
     "output_type": "stream",
     "text": [
      "O=C(C([H])(C([H])([H])[H])C([H])([H])[H])C([H])(C([H])([H])[H])C([H])([H])[H] |ha:0,1,2,4,8,12,14,18,hb:0,1,3,7,11,13,17|\n",
      "O=C(C([H])(C([H])([H])[H])C([H])([H])[H])C([H])(C([H])([H])[H])C([H])([H])[H] |ha:1,2,4,8,12,14,18,hb:1,3,7,11,13,17|\n"
     ]
    }
   ],
   "source": [
    "patterns = [(\"C(~C)(~O)\", +2.0)]\n",
    "matcher = indigo.substructureMatcher(mol)\n",
    "for pattern, value in patterns:\n",
    "    query = indigo.loadQueryMolecule(pattern)\n",
    "    for match in matcher.iterateMatches(query):\n",
    "        for qatom in query.iterateAtoms():\n",
    "            match.mapAtom(qatom).highlight()\n",
    "        for bond in query.iterateBonds():\n",
    "            match.mapBond(bond).highlight()\n",
    "print(mol.smiles())\n",
    "import indigo_renderer\n",
    "indigoRenderer = indigo_renderer.IndigoRenderer(indigo)\n",
    "indigo.setOption(\"render-atom-color-property\", \"color\")\n",
    "indigo.setOption('render-coloring', True)\n",
    "indigo.setOption('render-comment-font-size', 14.0)\n",
    "indigo.setOption('render-bond-line-width', 2.0)\n",
    "indigoRenderer.renderToFile(mol, 'high.png')\n",
    "mol.unhighlight()\n",
    "patterns = [(\"C-C-C-C-C\", -1.0), (\"C-C-C-C-C-C\", -1.0)]\n",
    "matcher = indigo.substructureMatcher(mol)\n",
    "for pattern, value in patterns:\n",
    "    query = indigo.loadQueryMolecule(pattern)\n",
    "    for match in matcher.iterateMatches(query):\n",
    "        for qatom in query.iterateAtoms():\n",
    "            match.mapAtom(qatom).highlight()\n",
    "        for bond in query.iterateBonds():\n",
    "            match.mapBond(bond).highlight()\n",
    "print(mol.smiles())\n",
    "indigoRenderer.renderToFile(mol, 'low.png')"
   ]
  },
  {
   "cell_type": "code",
   "execution_count": 235,
   "metadata": {
    "collapsed": false
   },
   "outputs": [
    {
     "name": "stdout",
     "output_type": "stream",
     "text": [
      "00000000000004084000008000800000201000000000000000400200000084008000000800008000080000000100000000000004101000008080000010040000000200000000400000002200020000002000000002000800000280000000201000000000000040000010000000000000000010040808000000000001000000000800800000010200000000000000004000000000000000004000000008400000100103000000400000008201000000000080000000001000000420030000000000008000000210000002080000000000000000000000000000000000000000000000000000000000000000000000000000000000000000000000000000000000000000000000000000000000000000000000000000000000000000000000000000000000000000000000000000000000000000000000000000000000000000000000000000000000000000000000000000000000000000000000008011090084020808800208050010521108081010002c2402200840008047800006001000020000002040808200801948028084014031000020000708008000004000100001800010240200004084a00010000201000001000001100002601402500902115003000201000001000200000001002140000004\n"
     ]
    }
   ],
   "source": [
    "print(m.toString())"
   ]
  },
  {
   "cell_type": "code",
   "execution_count": null,
   "metadata": {
    "collapsed": true
   },
   "outputs": [],
   "source": [
    "cross_validation.train_test_split()"
   ]
  },
  {
   "cell_type": "code",
   "execution_count": 48,
   "metadata": {
    "collapsed": false
   },
   "outputs": [
    {
     "name": "stdout",
     "output_type": "stream",
     "text": [
      "Accuracy 0.834175824176 0.0360498186066\n",
      "Precision 0.85148711736 0.054180397826\n",
      "Recall 0.818395664656 0.0707266475382\n",
      "AUC 0.835551863005 0.0350785748445\n"
     ]
    }
   ],
   "source": [
    "accuracy = np.zeros(100)\n",
    "precision = np.zeros(100)\n",
    "recall = np.zeros(100)\n",
    "roc = np.zeros(100)\n",
    "for i in range(100):\n",
    "    train, test, labels_train, labels_test, train_indices, test_indices = sklearn.cross_validation.train_test_split(data, labels, indices, train_size=0.50)\n",
    "    encoder.fit(data)\n",
    "    encoded_train = encoder.transform(train)\n",
    "    crf = sklearn.ensemble.RandomForestClassifier(n_estimators=500)\n",
    "    crf.fit(encoded_train, labels_train)\n",
    "    accuracy[i] = sklearn.metrics.accuracy_score(labels_test, crf.predict(encoder.transform(test)))\n",
    "    precision[i] = sklearn.metrics.precision_score(labels_test, crf.predict(encoder.transform(test)))\n",
    "    recall[i] = sklearn.metrics.recall_score(labels_test, crf.predict(encoder.transform(test)))\n",
    "    roc[i] = sklearn.metrics.roc_auc_score(labels_test, crf.predict(encoder.transform(test)))\n",
    "print(\"Accuracy\", np.mean(accuracy), np.std(accuracy))\n",
    "print(\"Precision\", np.mean(precision), np.std(precision))\n",
    "print(\"Recall\", np.mean(recall), np.std(recall))\n",
    "print(\"AUC\", np.mean(roc), np.std(roc))"
   ]
  },
  {
   "cell_type": "code",
   "execution_count": 49,
   "metadata": {
    "collapsed": false
   },
   "outputs": [],
   "source": [
    "import matplotlib.pyplot as plt\n",
    "plt.clf()\n",
    "f = plt.figure(1)\n",
    "plt.plot([0, 1], [0, 1], 'k--')\n",
    "for i in range(10):\n",
    "    train, test, labels_train, labels_test = sklearn.cross_validation.train_test_split(data, labels, train_size=0.50)\n",
    "    encoder.fit(data)\n",
    "    encoded_train = encoder.transform(train)\n",
    "    crf = sklearn.ensemble.RandomForestClassifier(n_estimators=500)\n",
    "    crf.fit(encoded_train, labels_train)\n",
    "    y_pred_rf = crf.predict_proba(encoder.transform(test))[:, 1]\n",
    "    fpr_rf, tpr_rf, _ = sklearn.metrics.roc_curve(labels_test, y_pred_rf)\n",
    "    plt.plot(fpr_rf, tpr_rf)\n",
    "plt.xlabel('False positive rate')\n",
    "plt.ylabel('True positive rate')\n",
    "plt.title('ROC curve')\n",
    "plt.legend(loc='best')\n",
    "plt.savefig(\"ROC_AUC.eps\", format = 'eps', dpi=1000)"
   ]
  }
 ],
 "metadata": {
  "kernelspec": {
   "display_name": "Python 2",
   "language": "python",
   "name": "python2"
  },
  "language_info": {
   "codemirror_mode": {
    "name": "ipython",
    "version": 2
   },
   "file_extension": ".py",
   "mimetype": "text/x-python",
   "name": "python",
   "nbconvert_exporter": "python",
   "pygments_lexer": "ipython2",
   "version": "2.7.12"
  }
 },
 "nbformat": 4,
 "nbformat_minor": 0
}
